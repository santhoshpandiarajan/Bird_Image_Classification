{
 "cells": [
  {
   "attachments": {},
   "cell_type": "markdown",
   "id": "4075b031",
   "metadata": {},
   "source": [
    "WORK WITH TERMINAL"
   ]
  },
  {
   "attachments": {},
   "cell_type": "markdown",
   "id": "83274bf1",
   "metadata": {},
   "source": [
    "- Source oneAPI environment variables: $source /opt/intel/oneapi/setvars.sh <br>\n",
    "- Create conda env: $conda create --name intel-tensorflow --clone tensorflow <br>\n",
    "- Activate the created conda env: $source activate intel-tensorflow <br>\n",
    "- Install the extra needed package: (intel-tensorflow) $pip install cxxfilt matplotlib ipykernel psutil pandas gitpython <br>\n",
    "- Deactivate conda env: (intel-tensorflow)$conda deactivate <br>\n",
    "- Register the kernel to Jupyter NB: $~/.conda/envs/intel-tensorflow/bin/python  -m ipykernel install --user --name=intel-tensorflow"
   ]
  },
  {
   "attachments": {},
   "cell_type": "markdown",
   "id": "bc465351",
   "metadata": {},
   "source": [
    "WORK WITH JUPYTER NOTEBOOK"
   ]
  },
  {
   "cell_type": "code",
   "execution_count": 1,
   "id": "ce6c2658",
   "metadata": {},
   "outputs": [],
   "source": [
    "import opendatasets as od"
   ]
  },
  {
   "cell_type": "code",
   "execution_count": 2,
   "id": "0ab602dd",
   "metadata": {},
   "outputs": [],
   "source": [
    "dataset= \"https://www.kaggle.com/datasets/gpiosenka/100-bird-species/download?datasetVersionNumber=62\""
   ]
  },
  {
   "cell_type": "code",
   "execution_count": null,
   "id": "b27de9bf",
   "metadata": {},
   "outputs": [],
   "source": [
    "od.download(dataset)"
   ]
  },
  {
   "cell_type": "code",
   "execution_count": null,
   "id": "12b58e8a",
   "metadata": {},
   "outputs": [],
   "source": [
    "import gradio as gr"
   ]
  },
  {
   "cell_type": "code",
   "execution_count": null,
   "id": "9cc40401",
   "metadata": {},
   "outputs": [],
   "source": [
    "import matplotlib.pyplot as plt\n",
    "import numpy as np\n",
    "import os\n",
    "import PIL\n",
    "import tensorflow as tf\n",
    "\n",
    "from tensorflow import keras\n",
    "from tensorflow.keras import layers\n",
    "from tensorflow.keras.models import Sequential"
   ]
  },
  {
   "cell_type": "code",
   "execution_count": null,
   "id": "40f3d0be",
   "metadata": {},
   "outputs": [],
   "source": [
    "import pathlib\n",
    "\n",
    "data_dir = 'Data'\n",
    "data_dir = pathlib.Path(data_dir)"
   ]
  },
  {
   "cell_type": "code",
   "execution_count": null,
   "id": "c9ef92c5",
   "metadata": {},
   "outputs": [],
   "source": [
    "import pathlib\n",
    "\n",
    "data_dir = 'Data/train'\n",
    "data_dir = pathlib.Path(data_dir)"
   ]
  },
  {
   "cell_type": "code",
   "execution_count": null,
   "id": "8aa6124f",
   "metadata": {},
   "outputs": [],
   "source": [
    "img_height,img_width=180,180\n",
    "batch_size=32\n",
    "train_ds = tf.keras.preprocessing.image_dataset_from_directory(\n",
    "  data_dir,\n",
    "  validation_split=0.2,\n",
    "  subset=\"training\",\n",
    "  seed=123,\n",
    "  image_size=(img_height, img_width),\n",
    "  batch_size=batch_size)"
   ]
  },
  {
   "cell_type": "code",
   "execution_count": null,
   "id": "d2608fa7",
   "metadata": {},
   "outputs": [],
   "source": [
    "val_ds = tf.keras.preprocessing.image_dataset_from_directory(\n",
    "  data_dir,\n",
    "  validation_split=0.2,\n",
    "  subset=\"validation\",\n",
    "  seed=123,\n",
    "  image_size=(img_height, img_width),\n",
    "  batch_size=batch_size)"
   ]
  },
  {
   "cell_type": "code",
   "execution_count": null,
   "id": "f859cf06",
   "metadata": {},
   "outputs": [],
   "source": [
    "class_names = train_ds.class_names\n",
    "print(class_names)"
   ]
  },
  {
   "cell_type": "code",
   "execution_count": null,
   "id": "58e2b5d4",
   "metadata": {},
   "outputs": [],
   "source": [
    "import matplotlib.pyplot as plt\n",
    "\n",
    "plt.figure(figsize=(10, 10))\n",
    "for images, labels in train_ds.take(1):\n",
    "  for i in range(9):\n",
    "    ax = plt.subplot(3, 3, i + 1)\n",
    "    plt.imshow(images[i].numpy().astype(\"uint8\"))\n",
    "    plt.title(class_names[labels[i]])\n",
    "    plt.axis(\"off\")"
   ]
  },
  {
   "cell_type": "code",
   "execution_count": null,
   "id": "8f6d6a4c",
   "metadata": {},
   "outputs": [],
   "source": [
    "num_classes = 500\n",
    "\n",
    "model = Sequential([\n",
    "  layers.experimental.preprocessing.Rescaling(1./255, input_shape=(img_height, img_width, 3)),\n",
    "  layers.Conv2D(16, 3, padding='same', activation='relu'),\n",
    "  layers.MaxPooling2D(),\n",
    "  layers.Conv2D(32, 3, padding='same', activation='relu'),\n",
    "  layers.MaxPooling2D(),\n",
    "  layers.Conv2D(64, 3, padding='same', activation='relu'),\n",
    "  layers.MaxPooling2D(),\n",
    "  layers.Flatten(),\n",
    "  layers.Dense(128, activation='relu'),\n",
    "  layers.Dense(num_classes,activation='softmax')\n",
    "])"
   ]
  },
  {
   "cell_type": "code",
   "execution_count": null,
   "id": "541cf368",
   "metadata": {},
   "outputs": [],
   "source": [
    "model.compile(optimizer='adam',\n",
    "              loss=tf.keras.losses.SparseCategoricalCrossentropy(from_logits=True),\n",
    "              metrics=['accuracy'])"
   ]
  },
  {
   "cell_type": "code",
   "execution_count": null,
   "id": "80e973a3",
   "metadata": {},
   "outputs": [],
   "source": [
    "epochs=50\n",
    "history = model.fit(\n",
    "  train_ds,\n",
    "  validation_data=val_ds,\n",
    "  epochs=epochs\n",
    ")"
   ]
  },
  {
   "cell_type": "code",
   "execution_count": null,
   "id": "6ed5f198",
   "metadata": {},
   "outputs": [],
   "source": [
    "def predict_image(img):\n",
    "  img_4d=img.reshape(-1,180,180,3)\n",
    "  prediction=model.predict(img_4d)[0]\n",
    "  return {class_names[i]: float(prediction[i]) for i in range(500)}"
   ]
  },
  {
   "cell_type": "code",
   "execution_count": null,
   "id": "2a1d96a6",
   "metadata": {},
   "outputs": [],
   "source": [
    "image = gr.inputs.Image(shape=(180,180))\n",
    "label = gr.outputs.Label(num_top_classes=500)\n",
    "\n",
    "gr.Interface(fn=predict_image, inputs=image, outputs=label,interpretation='default').launch(share='True')"
   ]
  }
 ],
 "metadata": {
  "kernelspec": {
   "display_name": "Python 3 (ipykernel)",
   "language": "python",
   "name": "python3"
  },
  "language_info": {
   "codemirror_mode": {
    "name": "ipython",
    "version": 3
   },
   "file_extension": ".py",
   "mimetype": "text/x-python",
   "name": "python",
   "nbconvert_exporter": "python",
   "pygments_lexer": "ipython3",
   "version": "3.10.5"
  }
 },
 "nbformat": 4,
 "nbformat_minor": 5
}
